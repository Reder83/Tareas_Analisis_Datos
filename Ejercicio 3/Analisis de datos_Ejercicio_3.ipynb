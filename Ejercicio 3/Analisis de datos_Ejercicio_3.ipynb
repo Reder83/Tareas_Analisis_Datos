{
 "cells": [
  {
   "attachments": {},
   "cell_type": "markdown",
   "metadata": {},
   "source": [
    "# Ejercicio 3"
   ]
  },
  {
   "cell_type": "code",
   "execution_count": 1,
   "metadata": {},
   "outputs": [],
   "source": [
    "import numpy as np"
   ]
  },
  {
   "attachments": {},
   "cell_type": "markdown",
   "metadata": {},
   "source": [
    "i) Reproducir la matriz B"
   ]
  },
  {
   "cell_type": "code",
   "execution_count": 2,
   "metadata": {},
   "outputs": [
    {
     "name": "stdout",
     "output_type": "stream",
     "text": [
      "[0.4  0.41 0.42 0.43 0.44 0.45 0.46 0.47 0.48 0.49 0.5  0.51 0.52 0.53\n",
      " 0.54 0.55 0.56 0.57 0.58 0.59 0.6  0.61 0.62 0.63 0.64 0.65 0.66 0.67\n",
      " 0.68 0.69 0.7  0.71 0.72 0.73 0.74 0.75 0.76 0.77 0.78 0.79] \n",
      "\n",
      "[[0.4  0.41 0.42 0.43 0.44 0.45 0.46 0.47]\n",
      " [0.48 0.49 0.5  0.51 0.52 0.53 0.54 0.55]\n",
      " [0.56 0.57 0.58 0.59 0.6  0.61 0.62 0.63]\n",
      " [0.64 0.65 0.66 0.67 0.68 0.69 0.7  0.71]\n",
      " [0.72 0.73 0.74 0.75 0.76 0.77 0.78 0.79]] \n",
      "\n"
     ]
    }
   ],
   "source": [
    "#Generamos una matriz con las caracteristicas pedidas\n",
    "B = np.arange(0.4, 0.8, 0.01)\n",
    "print(B, \"\\n\")\n",
    "#Le damos una segunda dimencion a la matriz\n",
    "Matriz_B = np.reshape(B,(5,8))\n",
    "print(Matriz_B, \"\\n\")"
   ]
  },
  {
   "attachments": {},
   "cell_type": "markdown",
   "metadata": {},
   "source": [
    "ii) Unir B con el resultado del ejercicio anterior 2 para obtener una matriz de 8 lineas y 13 columnas."
   ]
  },
  {
   "cell_type": "code",
   "execution_count": 15,
   "metadata": {},
   "outputs": [
    {
     "name": "stdout",
     "output_type": "stream",
     "text": [
      "[ 1  2  3  4  5  6  7  8  9 10 11 12 13 14 15 16 17 18 19 20 21 22 23 24\n",
      " 25 26 27 28 29 30 31 32 33 34 35 36 37 38 39 40 41 42 43 44 45 46 47 48\n",
      " 49 50 51 52 53 54 55 56 57 58 59 60 61 62 63 64] \n",
      "\n",
      "[[  1   2 -99   4   5   6   7   8]\n",
      " [  9  10  11  12 -99  14  15  16]\n",
      " [ 17  18  19  20  21  22 -99  24]\n",
      " [ 25  26  27  28  29 -99 -99 -99]\n",
      " [-99 -99 -99 -99 -99 -99 -99  40]\n",
      " [ 41  42 -99  44  45  46  47  48]\n",
      " [ 49  50  51  52 -99  54  55  56]\n",
      " [ 57  58  59  60  61  62 -99  64]] \n",
      "\n",
      "[[  1.     2.   -99.     4.     5.     6.     7.     8.  ]\n",
      " [  9.    10.    11.    12.   -99.    14.    15.    16.  ]\n",
      " [ 17.    18.    19.    20.    21.    22.   -99.    24.  ]\n",
      " [ 25.    26.    27.    28.    29.   -99.   -99.   -99.  ]\n",
      " [-99.   -99.   -99.   -99.   -99.   -99.   -99.    40.  ]\n",
      " [ 41.    42.   -99.    44.    45.    46.    47.    48.  ]\n",
      " [ 49.    50.    51.    52.   -99.    54.    55.    56.  ]\n",
      " [ 57.    58.    59.    60.    61.    62.   -99.    64.  ]\n",
      " [  0.4    0.41   0.42   0.43   0.44   0.45   0.46   0.47]\n",
      " [  0.48   0.49   0.5    0.51   0.52   0.53   0.54   0.55]\n",
      " [  0.56   0.57   0.58   0.59   0.6    0.61   0.62   0.63]\n",
      " [  0.64   0.65   0.66   0.67   0.68   0.69   0.7    0.71]\n",
      " [  0.72   0.73   0.74   0.75   0.76   0.77   0.78   0.79]]\n"
     ]
    },
    {
     "data": {
      "text/plain": [
       "array([[  1.  ,   9.  ,  17.  ,  25.  , -99.  ,  41.  ,  49.  ,  57.  ,\n",
       "          0.4 ,   0.48,   0.56,   0.64,   0.72],\n",
       "       [  2.  ,  10.  ,  18.  ,  26.  , -99.  ,  42.  ,  50.  ,  58.  ,\n",
       "          0.41,   0.49,   0.57,   0.65,   0.73],\n",
       "       [-99.  ,  11.  ,  19.  ,  27.  , -99.  , -99.  ,  51.  ,  59.  ,\n",
       "          0.42,   0.5 ,   0.58,   0.66,   0.74],\n",
       "       [  4.  ,  12.  ,  20.  ,  28.  , -99.  ,  44.  ,  52.  ,  60.  ,\n",
       "          0.43,   0.51,   0.59,   0.67,   0.75],\n",
       "       [  5.  , -99.  ,  21.  ,  29.  , -99.  ,  45.  , -99.  ,  61.  ,\n",
       "          0.44,   0.52,   0.6 ,   0.68,   0.76],\n",
       "       [  6.  ,  14.  ,  22.  , -99.  , -99.  ,  46.  ,  54.  ,  62.  ,\n",
       "          0.45,   0.53,   0.61,   0.69,   0.77],\n",
       "       [  7.  ,  15.  , -99.  , -99.  , -99.  ,  47.  ,  55.  , -99.  ,\n",
       "          0.46,   0.54,   0.62,   0.7 ,   0.78],\n",
       "       [  8.  ,  16.  ,  24.  , -99.  ,  40.  ,  48.  ,  56.  ,  64.  ,\n",
       "          0.47,   0.55,   0.63,   0.71,   0.79]])"
      ]
     },
     "execution_count": 15,
     "metadata": {},
     "output_type": "execute_result"
    }
   ],
   "source": [
    "#Pasamoss el procedimiento de la matriz del ejercicio 2\n",
    "matriz1 = np.arange(1, 65, 1)\n",
    "print(matriz1, \"\\n\")\n",
    "#con ell metoodo \"reshape\" le damos una segunda dimecion a la primera matriz (filas, columnas)\n",
    "matriz2 = np.reshape(matriz1,(8,8))\n",
    "\n",
    "# trassponemos la matriz para que las filas se conviertan en columnas\n",
    "matriz_t = np.transpose(matriz2)\n",
    "\n",
    "#Se crea 2 ciclos for en loss cuales corresponde el numero de filas y  columnas\n",
    "for i in range(8):\n",
    "  for j in range (8):\n",
    "#Se porcedde a cambiar los valores de la matriz a variables string\n",
    "    elemento = str(matriz2[i][j])\n",
    "#Con el metodo \"find\" buscamos entre la matriz bidimencional el caracter 3\n",
    "    cambio = elemento.find('3')\n",
    "#Como el metodo \"find\" encuentra el caracter  3 lo cambia por un -1, \n",
    "#junto con el condiccional esto nor permite cambiar dicho caracter por un -99\n",
    "    if (cambio != -1):\n",
    "      matriz2[i][j] = -99\n",
    "\n",
    "#Pasamos la matriz resultante del ejercicio anterior a una nueva por comodidad\n",
    "Matriz_A = matriz2\n",
    "print(Matriz_A, \"\\n\")\n",
    "\n",
    "#Una vez que ya tenemos ambas matrices procedemos a concaatenar ambas matriceZ\n",
    "Matriz_AB = np.concatenate([Matriz_A, Matriz_B])\n",
    "#Nos da de resultado una matriz de 13x8\n",
    "print(Matriz_AB)\n",
    "\n",
    "#Sacamos la traspuesta de la matriz paara obtener la matris de 8X13 \n",
    "Matriz_C = np.transpose(Matriz_AB)\n",
    "Matriz_C"
   ]
  },
  {
   "attachments": {},
   "cell_type": "markdown",
   "metadata": {},
   "source": [
    "iii). Agregar una linea al final con el promedio de cada columna"
   ]
  },
  {
   "cell_type": "code",
   "execution_count": 76,
   "metadata": {},
   "outputs": [
    {
     "name": "stdout",
     "output_type": "stream",
     "text": [
      "[[   1.       9.      17.      25.     -99.      41.      49.      57.\n",
      "     0.4      0.48     0.56     0.64     0.72 ]\n",
      " [   2.      10.      18.      26.     -99.      42.      50.      58.\n",
      "     0.41     0.49     0.57     0.65     0.73 ]\n",
      " [ -99.      11.      19.      27.     -99.     -99.      51.      59.\n",
      "     0.42     0.5      0.58     0.66     0.74 ]\n",
      " [   4.      12.      20.      28.     -99.      44.      52.      60.\n",
      "     0.43     0.51     0.59     0.67     0.75 ]\n",
      " [   5.     -99.      21.      29.     -99.      45.     -99.      61.\n",
      "     0.44     0.52     0.6      0.68     0.76 ]\n",
      " [   6.      14.      22.     -99.     -99.      46.      54.      62.\n",
      "     0.45     0.53     0.61     0.69     0.77 ]\n",
      " [   7.      15.     -99.     -99.     -99.      47.      55.     -99.\n",
      "     0.46     0.54     0.62     0.7      0.78 ]\n",
      " [   8.      16.      24.     -99.      40.      48.      56.      64.\n",
      "     0.47     0.55     0.63     0.71     0.79 ]\n",
      " [  -8.25    -9.75    -4.5    -24.75  -106.375  -79.625  -46.125   -5.875\n",
      "    -5.44    -4.925   -4.33    -3.655   -2.9  ]]\n"
     ]
    }
   ],
   "source": [
    "promedio = np.zeros((1,13))\n",
    "\n",
    "suma = 0\n",
    "#Generamos un ciclo en el cual se iran sumando respectivamente todos los valores de las columnas para sacar su proomedio\n",
    "for i in range(13):\n",
    "    for j in range(8):\n",
    "        suma = suma + Matriz_C[j][i]\n",
    "    promedio[0][i] = suma/8\n",
    "\n",
    "#Concatenamos la matriz de los promedio con la matriz c\n",
    "Matriz_CPromedios = np.concatenate([Matriz_C, promedio])\n",
    "print(Matriz_CPromedios)"
   ]
  },
  {
   "attachments": {},
   "cell_type": "markdown",
   "metadata": {},
   "source": [
    "iv). Agregar una columna al final con el valor maximo de cada fila"
   ]
  },
  {
   "cell_type": "code",
   "execution_count": 89,
   "metadata": {},
   "outputs": [
    {
     "name": "stdout",
     "output_type": "stream",
     "text": [
      "[[57. ]\n",
      " [58. ]\n",
      " [59. ]\n",
      " [60. ]\n",
      " [61. ]\n",
      " [62. ]\n",
      " [55. ]\n",
      " [64. ]\n",
      " [-2.9]] \n",
      "\n",
      "[[   1.       9.      17.      25.     -99.      41.      49.      57.\n",
      "     0.4      0.48     0.56     0.64     0.72    57.   ]\n",
      " [   2.      10.      18.      26.     -99.      42.      50.      58.\n",
      "     0.41     0.49     0.57     0.65     0.73    58.   ]\n",
      " [ -99.      11.      19.      27.     -99.     -99.      51.      59.\n",
      "     0.42     0.5      0.58     0.66     0.74    59.   ]\n",
      " [   4.      12.      20.      28.     -99.      44.      52.      60.\n",
      "     0.43     0.51     0.59     0.67     0.75    60.   ]\n",
      " [   5.     -99.      21.      29.     -99.      45.     -99.      61.\n",
      "     0.44     0.52     0.6      0.68     0.76    61.   ]\n",
      " [   6.      14.      22.     -99.     -99.      46.      54.      62.\n",
      "     0.45     0.53     0.61     0.69     0.77    62.   ]\n",
      " [   7.      15.     -99.     -99.     -99.      47.      55.     -99.\n",
      "     0.46     0.54     0.62     0.7      0.78    55.   ]\n",
      " [   8.      16.      24.     -99.      40.      48.      56.      64.\n",
      "     0.47     0.55     0.63     0.71     0.79    64.   ]\n",
      " [  -8.25    -9.75    -4.5    -24.75  -106.375  -79.625  -46.125   -5.875\n",
      "    -5.44    -4.925   -4.33    -3.655   -2.9     -2.9  ]]\n"
     ]
    }
   ],
   "source": [
    "valores = []\n",
    "for l in Matriz_CPromedios:\n",
    "    maximo = max(l)\n",
    "    valores.append((maximo))\n",
    "Valores_M = np.reshape(valores,(9,1))\n",
    "\n",
    "MAtriz_Final = np.concatenate([Matriz_CPromedios,Valores_M], axis = 1)\n",
    "print(MAtriz_Final)"
   ]
  },
  {
   "attachments": {},
   "cell_type": "markdown",
   "metadata": {},
   "source": [
    "v). Guardar el archivo"
   ]
  },
  {
   "cell_type": "code",
   "execution_count": 90,
   "metadata": {},
   "outputs": [],
   "source": [
    "np.savetxt('datos.csv', MAtriz_Final, delimiter=',', fmt='%.3f', header=\"1, 2, 3, 4, 5, 6, 7, 8, 9, 10, 11, 12, 13, max\")"
   ]
  },
  {
   "cell_type": "code",
   "execution_count": null,
   "metadata": {},
   "outputs": [],
   "source": []
  }
 ],
 "metadata": {
  "kernelspec": {
   "display_name": "Python 3",
   "language": "python",
   "name": "python3"
  },
  "language_info": {
   "codemirror_mode": {
    "name": "ipython",
    "version": 3
   },
   "file_extension": ".py",
   "mimetype": "text/x-python",
   "name": "python",
   "nbconvert_exporter": "python",
   "pygments_lexer": "ipython3",
   "version": "3.10.10"
  },
  "orig_nbformat": 4,
  "vscode": {
   "interpreter": {
    "hash": "e955b6c0b7660371cd079cf38d05740ce875a8e9d358bb071adb57f5e5c586af"
   }
  }
 },
 "nbformat": 4,
 "nbformat_minor": 2
}
